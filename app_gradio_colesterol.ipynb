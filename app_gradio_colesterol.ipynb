{
 "cells": [
  {
   "cell_type": "markdown",
   "metadata": {},
   "source": [
    "# Construindo um App no Gradio"
   ]
  },
  {
   "cell_type": "code",
   "execution_count": 108,
   "metadata": {},
   "outputs": [],
   "source": [
    "import gradio as gr\n",
    "import joblib\n",
    "import pandas as pd"
   ]
  },
  {
   "cell_type": "code",
   "execution_count": 109,
   "metadata": {},
   "outputs": [],
   "source": [
    "modelo = joblib.load('./modelo_colesterol.pkl')"
   ]
  },
  {
   "cell_type": "code",
   "execution_count": 110,
   "metadata": {},
   "outputs": [],
   "source": [
    "def predict(grupo_sanguineo, fumante, nivel_atividade_fisica, idade, peso, altura):\n",
    "    fumante = 'Sim' if fumante else 'Não'\n",
    "    predicao_individual = {\n",
    "        'grupo_sanguineo': grupo_sanguineo,\n",
    "        'fumante': fumante,\n",
    "        'nivel_atividade_fisica': nivel_atividade_fisica,\n",
    "        'idade': idade,\n",
    "        'peso': peso,\n",
    "        'altura': altura\n",
    "    }\n",
    "    \n",
    "    predict_df = pd.DataFrame(predicao_individual, index=[1])\n",
    "    colesterol = modelo.predict(predict_df)\n",
    "    \n",
    "    value = ' '.join(str(x) for x in colesterol.reshape(-1))\n",
    "\n",
    "    return value"
   ]
  },
  {
   "cell_type": "code",
   "execution_count": 111,
   "metadata": {},
   "outputs": [],
   "source": [
    "demo = gr.Interface(\n",
    "    fn=predict,\n",
    "    inputs=[\n",
    "        gr.Radio(['O', 'A', 'B', 'AB']),\n",
    "        'checkbox',\n",
    "        gr.Radio(['Baixo', 'Moderado', 'Alto']),\n",
    "        gr.Slider(20, 80, step=1),\n",
    "        gr.Slider(40, 160, step=0.1),\n",
    "        gr.Slider(150, 200, step=1),\n",
    "    ],\n",
    "    outputs=['number']\n",
    ")"
   ]
  },
  {
   "cell_type": "markdown",
   "metadata": {},
   "source": [
    "Nesta aula, vamos aprender uma nova forma de entregar um modelo para o usuário interagir. Em vez de criar uma API, vamos criar uma interface visual simples usando o Gradio. Vamos importar os módulos necessários, como o Gradio, o JobLib e o Pandas. Em seguida, vamos carregar o modelo salvo anteriormente usando o JobLib. Depois, vamos criar uma função chamada Predictive, que receberá os parâmetros de entrada da interface visual e fará a predição com base nesses dados. Em seguida, vamos criar a interface visual usando o Gradio, definindo os inputs e o output desejados. No próximo vídeo, veremos como chamar essa interface para interagir com o usuário.\n",
    "______________________"
   ]
  },
  {
   "cell_type": "markdown",
   "metadata": {},
   "source": [
    "# Testando nosso App no Gradio\n"
   ]
  },
  {
   "cell_type": "code",
   "execution_count": 112,
   "metadata": {},
   "outputs": [
    {
     "name": "stdout",
     "output_type": "stream",
     "text": [
      "Running on local URL:  http://127.0.0.1:7876\n",
      "\n",
      "Could not create share link. Please check your internet connection or our status page: https://status.gradio.app.\n"
     ]
    },
    {
     "name": "stderr",
     "output_type": "stream",
     "text": [
      "2024/09/10 16:53:13 [W] [service.go:132] login to server failed: dial tcp 44.237.78.176:7000: connectex: Foi feita uma tentativa de acesso a um soquete de uma maneira que é proibida pelas permissões de acesso.\n"
     ]
    },
    {
     "data": {
      "text/html": [
       "<div><iframe src=\"http://127.0.0.1:7876/\" width=\"100%\" height=\"500\" allow=\"autoplay; camera; microphone; clipboard-read; clipboard-write;\" frameborder=\"0\" allowfullscreen></iframe></div>"
      ],
      "text/plain": [
       "<IPython.core.display.HTML object>"
      ]
     },
     "metadata": {},
     "output_type": "display_data"
    },
    {
     "data": {
      "text/plain": []
     },
     "execution_count": 112,
     "metadata": {},
     "output_type": "execute_result"
    }
   ],
   "source": [
    "demo.launch(share=True)"
   ]
  },
  {
   "cell_type": "markdown",
   "metadata": {},
   "source": [
    "Nesta aula, exploramos como fazer a conversão de uma variável booleana para uma variável de texto antes de enviá-la para o modelo. Foi explicado que o modelo espera receber \"sim\" ou \"não\" em vez de \"true\" ou \"false\". Para fazer essa conversão, criamos uma nova variável que assume o valor \"sim\" se a variável booleana for verdadeira e \"não\" caso contrário. Em seguida, executamos novamente a demonstração com a nova variável convertida. Também aprendemos como interagir com o modelo usando uma interface visual, que pode ser acessada localmente ou por meio de um link gerado pelo Gradle.\n",
    "_______________________"
   ]
  }
 ],
 "metadata": {
  "kernelspec": {
   "display_name": "venv",
   "language": "python",
   "name": "python3"
  },
  "language_info": {
   "codemirror_mode": {
    "name": "ipython",
    "version": 3
   },
   "file_extension": ".py",
   "mimetype": "text/x-python",
   "name": "python",
   "nbconvert_exporter": "python",
   "pygments_lexer": "ipython3",
   "version": "3.11.0"
  }
 },
 "nbformat": 4,
 "nbformat_minor": 2
}
